{
 "cells": [
  {
   "cell_type": "code",
   "execution_count": null,
   "metadata": {},
   "outputs": [],
   "source": [
    "# Import libraries\n",
    "import numpy as np\n",
    "import matplotlib.pyplot as plt\n",
    "from matplotlib.animation import FuncAnimation\n",
    "\n",
    "# Import function\n",
    "from src.solve_wave_eq_func import solve_wave_eq"
   ]
  },
  {
   "cell_type": "code",
   "execution_count": null,
   "metadata": {},
   "outputs": [],
   "source": [
    "# Define parameters\n",
    "L = 1.0\n",
    "N = 100\n",
    "c = 1.0\n",
    "dx = L/N\n",
    "dt = 0.001\n",
    "T = 1.0\n",
    "\n",
    "x = np.linspace(0, L, N+1)\n",
    "t = int(T/dt)\n",
    "\n",
    "# Define initial conditions\n",
    "init_cond = [\n",
    "    np.sin(2 * np.pi * x), # Case i\n",
    "    np.sin(5 * np.pi * x), # Case ii\n",
    "    np.where((x > L/5) & (x < 2*L/5), np.sin(5 * np.pi * x), 0) # Case iii\n",
    "]"
   ]
  },
  {
   "cell_type": "code",
   "execution_count": null,
   "metadata": {},
   "outputs": [],
   "source": [
    "# EX 1.1B: plot the result at several times in the same figure, e.g. varying the color of the curve\n",
    "\n",
    "indices = [0, t//4, t//2, 3*t//4, t-1]\n",
    "labels = [str(T * i / t) for i in indices]\n",
    "titles = ['i', 'ii', 'iii']\n",
    "colors = ['b', 'g', 'r', 'c', 'm']\n",
    "\n",
    "for ic, psi_0 in enumerate(init_cond):\n",
    "    plt.figure(figsize=(8, 5), dpi=300)\n",
    "    results = solve_wave_eq(psi_0, x, t, N, c, dt, dx)\n",
    "\n",
    "    for i, index in enumerate(indices):\n",
    "        plt.plot(x, results[index], color=colors[i], label=f't = {labels[i]:.2f}')\n",
    "\n",
    "    plt.title(f\"Wave at different t's, for initial condition {titles[ic]}\")\n",
    "    plt.xlabel('X interval')\n",
    "    plt.ylabel('Wave amplitude')\n",
    "    plt.legend()\n",
    "    plt.show()"
   ]
  }
 ],
 "metadata": {
  "language_info": {
   "name": "python"
  }
 },
 "nbformat": 4,
 "nbformat_minor": 2
}
