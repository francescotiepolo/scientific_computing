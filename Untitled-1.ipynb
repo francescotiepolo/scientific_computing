{
 "cells": [
  {
   "cell_type": "code",
   "execution_count": 4,
   "metadata": {},
   "outputs": [
    {
     "ename": "ImportError",
     "evalue": "cannot import name 'animate1' from 'src.functions_1_2' (c:\\Users\\elias\\OneDrive\\scientific_computing_assignment1\\src\\functions_1_2.py)",
     "output_type": "error",
     "traceback": [
      "\u001b[1;31m---------------------------------------------------------------------------\u001b[0m",
      "\u001b[1;31mImportError\u001b[0m                               Traceback (most recent call last)",
      "Cell \u001b[1;32mIn[4], line 5\u001b[0m\n\u001b[0;32m      3\u001b[0m \u001b[38;5;28;01mimport\u001b[39;00m \u001b[38;5;21;01mmatplotlib\u001b[39;00m\u001b[38;5;21;01m.\u001b[39;00m\u001b[38;5;21;01mpyplot\u001b[39;00m \u001b[38;5;28;01mas\u001b[39;00m \u001b[38;5;21;01mplt\u001b[39;00m\n\u001b[0;32m      4\u001b[0m \u001b[38;5;28;01mimport\u001b[39;00m \u001b[38;5;21;01mmatplotlib\u001b[39;00m\u001b[38;5;21;01m.\u001b[39;00m\u001b[38;5;21;01manimation\u001b[39;00m \u001b[38;5;28;01mas\u001b[39;00m \u001b[38;5;21;01manimation\u001b[39;00m\n\u001b[1;32m----> 5\u001b[0m \u001b[38;5;28;01mfrom\u001b[39;00m \u001b[38;5;21;01msrc\u001b[39;00m\u001b[38;5;21;01m.\u001b[39;00m\u001b[38;5;21;01mfunctions_1_2\u001b[39;00m \u001b[38;5;28;01mimport\u001b[39;00m update_concentration, analytical_solution, animate, animate1, update\n\u001b[0;32m      6\u001b[0m \u001b[38;5;28;01mfrom\u001b[39;00m \u001b[38;5;21;01mIPython\u001b[39;00m\u001b[38;5;21;01m.\u001b[39;00m\u001b[38;5;21;01mdisplay\u001b[39;00m \u001b[38;5;28;01mimport\u001b[39;00m HTML\n\u001b[0;32m      8\u001b[0m \u001b[38;5;66;03m# Parameters\u001b[39;00m\n",
      "\u001b[1;31mImportError\u001b[0m: cannot import name 'animate1' from 'src.functions_1_2' (c:\\Users\\elias\\OneDrive\\scientific_computing_assignment1\\src\\functions_1_2.py)"
     ]
    }
   ],
   "source": [
    "%matplotlib inline\n",
    "import numpy as np\n",
    "import matplotlib.pyplot as plt\n",
    "import matplotlib.animation as animation\n",
    "from src.functions_1_2 import update_concentration, analytical_solution, animate, animate1, update\n",
    "from IPython.display import HTML\n",
    "\n",
    "# Parameters\n",
    "N = 50          # Grid points\n",
    "D = 1.0         # Diffusion coefficient\n",
    "dx = 1.0 / N    # Spacing\n",
    "dt = 0.25 * dx**2 / D  # Timestep\n",
    "time_steps = [0, 500, 1000, 2000, 3500]  # Selected timesteps for snapshots\n",
    "\n",
    "# Initialize field\n",
    "c = np.zeros((N, N))\n",
    "c[:, -1] = 1  # Top boundary condition\n",
    "\n",
    "# Time evolution at snapshots\n",
    "snapshots = {}\n",
    "for step in range(max(time_steps) + 1):\n",
    "    c = update_concentration(c, D, dx, dt, N)\n",
    "    if step in time_steps:\n",
    "        snapshots[step] = c.copy()\n",
    "\n",
    "# Plot all snapshots\n",
    "cols = len(time_steps)\n",
    "fig, axes = plt.subplots(1, cols, figsize=(3 * cols, 4), constrained_layout=True)\n",
    "for ax, step in zip(axes, time_steps):\n",
    "    im = ax.imshow(snapshots[step].T, origin='lower', cmap='hot', extent=[0, 1, 0, 1])\n",
    "    ax.set_title(f\"t = {step * dt:.3f}\")\n",
    "    ax.set_xticks([])\n",
    "    ax.set_yticks([])\n",
    "\n",
    "# Add colorbar\n",
    "fig.colorbar(im, ax=axes, orientation=\"vertical\", fraction=0.02, pad=0.05, label=\"Concentration\")\n",
    "plt.suptitle(\"Diffusion Process at Different Time Steps\", fontsize=14)\n",
    "plt.show()\n",
    "\n",
    "# Comparison with analytical solution\n",
    "plt.figure(figsize=(7, 5))\n",
    "y_vals = np.linspace(0, 1, N)\n",
    "for step in time_steps:\n",
    "    if step in snapshots:\n",
    "        plt.plot(y_vals, snapshots[step].mean(axis=0), 'o-', label=f\"Numerical (t={step * dt:.3f})\")\n",
    "        plt.plot(y_vals, analytical_solution(y_vals, step * dt, D), '--', label=f\"Analytical (t={step * dt:.3f})\")\n",
    "\n",
    "plt.xlabel(\"y\")\n",
    "plt.ylabel(\"Concentration c(y)\")\n",
    "plt.title(\"Comparison of Numerical and Analytical Solutions\")\n",
    "plt.legend()\n",
    "plt.grid()\n",
    "plt.show()\n",
    "\n",
    "# Animation setup\n",
    "%matplotlib notebook\n",
    "fig, ax = plt.subplots(figsize=(6, 5))\n",
    "im = ax.imshow(c.T, origin='lower', cmap='hot', extent=[0, 1, 0, 1])\n",
    "ax.set_title(\"Time-dependent Diffusion\")\n",
    "ax.set_xlabel(\"x\")\n",
    "ax.set_ylabel(\"y\")\n",
    "cbar = fig.colorbar(im)\n",
    "cbar.set_label(\"Concentration\")\n",
    "\n",
    "# Create animation\n",
    "ani = animation.FuncAnimation(fig, update, frames=max(time_steps)//10, interval=50)\n",
    "plt.show()\n",
    "\n",
    "# Store animation in Jupyter Notebook\n",
    "HTML(ani.to_jshtml())\n"
   ]
  }
 ],
 "metadata": {
  "kernelspec": {
   "display_name": "base",
   "language": "python",
   "name": "python3"
  },
  "language_info": {
   "codemirror_mode": {
    "name": "ipython",
    "version": 3
   },
   "file_extension": ".py",
   "mimetype": "text/x-python",
   "name": "python",
   "nbconvert_exporter": "python",
   "pygments_lexer": "ipython3",
   "version": "3.12.4"
  }
 },
 "nbformat": 4,
 "nbformat_minor": 2
}
